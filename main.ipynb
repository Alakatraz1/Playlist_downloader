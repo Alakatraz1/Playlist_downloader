import os
from pytube import Playlist
from google.colab import drive

def download_playlist(playlist_url, save_location):
    # Mount Google Drive
    drive.mount('/content/drive')

    try:
        # Load playlist
        playlist = Playlist(playlist_url)

        # Create save location if it doesn't exist
        os.makedirs(save_location, exist_ok=True)

        # Loop through each video in the playlist
        for video in playlist.videos:
            # Download the video
            stream = video.streams.get_highest_resolution()
            stream.download(output_path=save_location)
            print(f"Downloaded: {video.title}")

        print("Download completed successfully!")

    except Exception as e:
        print(f"Error: {e}")

# Input the URL of the YouTube playlist
playlist_url = input("Enter the URL of the YouTube playlist: ")

# Define the location to save the downloaded videos
save_location = '/content/drive/My Drive/YouTube_Playlist/'

# Call the function to download the playlist
download_playlist(playlist_url, save_location)
